{
 "cells": [
  {
   "cell_type": "markdown",
   "id": "b991d850-da41-4168-bdc9-43c2b6027fd9",
   "metadata": {},
   "source": [
    "# Continuation on Python Tutorial on W3school"
   ]
  },
  {
   "cell_type": "markdown",
   "id": "c3a0eac4-019e-4b44-bde5-92841eb2e84c",
   "metadata": {},
   "source": [
    "## Global Variable"
   ]
  },
  {
   "cell_type": "code",
   "execution_count": 1,
   "id": "b3f97e31-657c-4419-8a98-d4586b1c8aab",
   "metadata": {},
   "outputs": [
    {
     "name": "stdout",
     "output_type": "stream",
     "text": [
      "I am using Python for Data Science\n"
     ]
    }
   ],
   "source": [
    "a = \"I am\"\n",
    "\n",
    "def myfunc() :\n",
    "  print ( a + \" using Python for Data Science\")\n",
    "  \n",
    "myfunc()"
   ]
  },
  {
   "cell_type": "code",
   "execution_count": 4,
   "id": "8fc9f193-d820-4fb0-9046-0c00325c2955",
   "metadata": {},
   "outputs": [
    {
     "name": "stdout",
     "output_type": "stream",
     "text": [
      "We are using Python for Data Science.\n",
      "I am using Python for Data Science.\n"
     ]
    }
   ],
   "source": [
    "a = \"I am\"\n",
    "\n",
    "def myfunc():\n",
    "  a = \"We are\"\n",
    "  print( a + \" using Python for Data Science.\")\n",
    "  \n",
    "myfunc()\n",
    "\n",
    "print( a + \" using Python for Data Science.\")"
   ]
  },
  {
   "cell_type": "markdown",
   "id": "e96611c5-7d69-4729-b066-bbed24279c06",
   "metadata": {},
   "source": [
    "## Using the \"global\" keyword in Python"
   ]
  },
  {
   "cell_type": "code",
   "execution_count": 3,
   "id": "63b69c14-ede5-44ad-a26f-30349847abd2",
   "metadata": {},
   "outputs": [
    {
     "name": "stdout",
     "output_type": "stream",
     "text": [
      "I am using Python for Data Science.\n"
     ]
    }
   ],
   "source": [
    "def myfunc():\n",
    "  global a\n",
    "  a = \"I am\"\n",
    "  \n",
    "myfunc()\n",
    "\n",
    "print(a + \" using Python for Data Science.\")\n"
   ]
  },
  {
   "cell_type": "code",
   "execution_count": 5,
   "id": "0b0a9e14-fc6d-489f-a6bf-06746dfa6d29",
   "metadata": {},
   "outputs": [
    {
     "name": "stdout",
     "output_type": "stream",
     "text": [
      "We are using Python for Data Science\n"
     ]
    }
   ],
   "source": [
    "a = \"I am\"\n",
    "\n",
    "def myfunc():\n",
    "  global a\n",
    "  a = \"We are\"\n",
    "  \n",
    "myfunc()\n",
    "\n",
    "print( a + \" using Python for Data Science\")"
   ]
  },
  {
   "cell_type": "markdown",
   "id": "f209f956-d7b1-496b-a3d5-b189d51ec36a",
   "metadata": {},
   "source": [
    "## Examples of some Data Types in Python"
   ]
  },
  {
   "cell_type": "code",
   "execution_count": 6,
   "id": "ba4f1614-3447-4237-96f3-1b62f33e3493",
   "metadata": {},
   "outputs": [
    {
     "name": "stdout",
     "output_type": "stream",
     "text": [
      "8j\n",
      "<class 'complex'>\n",
      "['Nigeria', 'Canada', 'Australia']\n",
      "<class 'list'>\n",
      "('Cat', 'Lion', 'Tiger')\n",
      "<class 'tuple'>\n",
      "range(5, 10)\n",
      "<class 'range'>\n",
      "False\n",
      "<class 'bool'>\n"
     ]
    }
   ],
   "source": [
    "a = 8j\n",
    "\n",
    "#display a:\n",
    "print (a)\n",
    "\n",
    "#display the data type of a:\n",
    "print(type(a))\n",
    "\n",
    "b = [\"Nigeria\", \"Canada\", \"Australia\"]\n",
    "\n",
    "#display b:\n",
    "print (b)\n",
    "\n",
    "#display the data type of b:\n",
    "print(type(b))\n",
    "\n",
    "c = (\"Cat\", \"Lion\", \"Tiger\")\n",
    "\n",
    "#display c:\n",
    "print(c)\n",
    "\n",
    "#display the data type of c:\n",
    "print(type(c))\n",
    "\n",
    "d = range(5, 10)\n",
    "\n",
    "#display d:\n",
    "print(d)\n",
    "\n",
    "#display the data type of d:\n",
    "print(type(d))\n",
    "\n",
    "e = False\n",
    "\n",
    "#display e:\n",
    "print(e)\n",
    "\n",
    "#display the data type of e:\n",
    "print(type(e))"
   ]
  },
  {
   "cell_type": "code",
   "execution_count": null,
   "id": "ccefd2ad-09ce-4086-bfde-992f1201193e",
   "metadata": {},
   "outputs": [],
   "source": []
  }
 ],
 "metadata": {
  "kernelspec": {
   "display_name": "Python 3 (ipykernel)",
   "language": "python",
   "name": "python3"
  },
  "language_info": {
   "codemirror_mode": {
    "name": "ipython",
    "version": 3
   },
   "file_extension": ".py",
   "mimetype": "text/x-python",
   "name": "python",
   "nbconvert_exporter": "python",
   "pygments_lexer": "ipython3",
   "version": "3.11.7"
  }
 },
 "nbformat": 4,
 "nbformat_minor": 5
}
