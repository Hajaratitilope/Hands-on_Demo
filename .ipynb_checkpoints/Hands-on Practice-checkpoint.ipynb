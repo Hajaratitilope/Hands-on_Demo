{
 "cells": [
  {
   "cell_type": "code",
   "execution_count": 5,
   "id": "1867ece5-f580-455b-838d-cc3d5ac979c9",
   "metadata": {},
   "outputs": [
    {
     "name": "stdout",
     "output_type": "stream",
     "text": [
      "My name is Hajarat and I am trying my hands on some codes\n"
     ]
    }
   ],
   "source": [
    "print (\"My name is Hajarat and I am trying my hands on some codes\")"
   ]
  },
  {
   "cell_type": "code",
   "execution_count": null,
   "id": "2d15df64-b17f-439e-9da7-0869297cbde1",
   "metadata": {},
   "outputs": [],
   "source": []
  },
  {
   "cell_type": "markdown",
   "id": "50167fbe-f1ef-4a59-ac07-ea84a44e26ea",
   "metadata": {},
   "source": [
    "# The following set of codes are some learnings on w3school Python tutorial"
   ]
  },
  {
   "cell_type": "markdown",
   "id": "7362a3eb-c4b5-4010-87f5-89dcb614c221",
   "metadata": {},
   "source": [
    "## Assigning values to variables"
   ]
  },
  {
   "cell_type": "code",
   "execution_count": 10,
   "id": "a99dcee0-27b1-4976-aba8-f9749abb7c45",
   "metadata": {},
   "outputs": [
    {
     "name": "stdout",
     "output_type": "stream",
     "text": [
      "Hajarat\n",
      "Titilope\n",
      "OLUFADE\n"
     ]
    }
   ],
   "source": [
    "a = \"Hajarat\"\n",
    "b = \"Titilope\"\n",
    "c = \"OLUFADE\"\n",
    "print (a)\n",
    "print (b)\n",
    "print (c)"
   ]
  },
  {
   "cell_type": "code",
   "execution_count": 12,
   "id": "e070643a-46d4-4399-985b-1b941a1243c1",
   "metadata": {},
   "outputs": [
    {
     "name": "stdout",
     "output_type": "stream",
     "text": [
      "7 is less than 11\n"
     ]
    }
   ],
   "source": [
    "if 7 < 11:\n",
    "    print (\"7 is less than 11\")"
   ]
  },
  {
   "cell_type": "markdown",
   "id": "546fb713-ef9b-4e79-bbc4-a45b365ed016",
   "metadata": {},
   "source": [
    "## Comments in Python"
   ]
  },
  {
   "cell_type": "code",
   "execution_count": 14,
   "id": "6b6f2cfc-f121-4e53-860a-52a82b6f64ee",
   "metadata": {},
   "outputs": [],
   "source": [
    "# I am just trying to write a comment.\n",
    "# still trying to wrap my head around how the comment command is being used."
   ]
  },
  {
   "cell_type": "markdown",
   "id": "b9f7cd21-3b40-44bd-9204-dfd230a72881",
   "metadata": {},
   "source": [
    "### Multiline Comments in Python"
   ]
  },
  {
   "cell_type": "code",
   "execution_count": 18,
   "id": "492018ad-82e2-496c-b1fd-725a6f6a1b33",
   "metadata": {},
   "outputs": [
    {
     "data": {
      "text/plain": [
       "'\\nI am just trying to write a comment.\\nstill trying to wrap my head around how the comment command is being used.\\n'"
      ]
     },
     "execution_count": 18,
     "metadata": {},
     "output_type": "execute_result"
    }
   ],
   "source": [
    "\"\"\"\n",
    "I am just trying to write a comment.\n",
    "still trying to wrap my head around how the comment command is being used.\n",
    "\"\"\""
   ]
  },
  {
   "cell_type": "markdown",
   "id": "d6697ecf-f787-4e3d-84d8-a52c5abcd5dc",
   "metadata": {},
   "source": [
    "## Variable Type Tutorial"
   ]
  },
  {
   "cell_type": "code",
   "execution_count": 21,
   "id": "11c64680-5c80-4540-b88d-fcbf6f3a4177",
   "metadata": {},
   "outputs": [
    {
     "name": "stdout",
     "output_type": "stream",
     "text": [
      "<class 'str'>\n",
      "<class 'int'>\n",
      "<class 'float'>\n"
     ]
    }
   ],
   "source": [
    "a = \"Hajarat\"\n",
    "b = 32\n",
    "c = 32.0\n",
    "print (type(a))\n",
    "print (type (b))\n",
    "print (type (c))"
   ]
  },
  {
   "cell_type": "markdown",
   "id": "2a23b5a0-3c17-4aa5-8e65-3009020933cb",
   "metadata": {},
   "source": [
    "## Variable Name Tutorial"
   ]
  },
  {
   "cell_type": "code",
   "execution_count": 24,
   "id": "4a647205-63af-4a2d-9e1d-9c2b4debec7b",
   "metadata": {},
   "outputs": [
    {
     "name": "stdout",
     "output_type": "stream",
     "text": [
      "Ashraf\n",
      "YUSUF\n",
      "45.6 cm\n",
      "7\n",
      "B2\n"
     ]
    }
   ],
   "source": [
    "pupil_name = \"Ashraf\"\n",
    "PupilSurname = \"YUSUF\"\n",
    "Height = \"45.6 cm\"\n",
    "age = 7\n",
    "class_arm = \"B2\"\n",
    "print (pupil_name)\n",
    "print (PupilSurname)\n",
    "print (Height)\n",
    "print (age)\n",
    "print (class_arm)\n"
   ]
  },
  {
   "cell_type": "markdown",
   "id": "c7badd78-ace4-4541-a947-e6a57f370084",
   "metadata": {},
   "source": [
    "## Many values = Multiple variables"
   ]
  },
  {
   "cell_type": "code",
   "execution_count": 23,
   "id": "6729932e-afd4-4825-810d-5cfdcd06ded0",
   "metadata": {},
   "outputs": [
    {
     "name": "stdout",
     "output_type": "stream",
     "text": [
      "1\n",
      "2\n",
      "Titilope\n"
     ]
    }
   ],
   "source": [
    "a, b, c = 1, 2, \"Titilope\"\n",
    "print (a)\n",
    "print (b)\n",
    "print (c)\n"
   ]
  },
  {
   "cell_type": "markdown",
   "id": "fca4b654-12e0-4577-9c77-cee45637ee1b",
   "metadata": {},
   "source": [
    "## One value = Multiple Variables"
   ]
  },
  {
   "cell_type": "code",
   "execution_count": 25,
   "id": "706fc45c-7f0c-485e-b9e5-eaca688c5643",
   "metadata": {},
   "outputs": [
    {
     "name": "stdout",
     "output_type": "stream",
     "text": [
      "2\n",
      "2\n",
      "2\n",
      "Ashraf\n",
      "Ashraf\n",
      "Ashraf\n"
     ]
    }
   ],
   "source": [
    "a = b = c = 2\n",
    "d = e = f = \"Ashraf\"\n",
    "print (a)\n",
    "print (b)\n",
    "print (c)\n",
    "print (d)\n",
    "print (e)\n",
    "print (f)"
   ]
  },
  {
   "cell_type": "markdown",
   "id": "e54d4b7b-f37e-4b81-a2ec-f85a93c36d08",
   "metadata": {},
   "source": [
    "## Unpacking"
   ]
  },
  {
   "cell_type": "code",
   "execution_count": 26,
   "id": "8c9c2b90-ecb4-48f5-9ba6-51895396a9ce",
   "metadata": {},
   "outputs": [
    {
     "name": "stdout",
     "output_type": "stream",
     "text": [
      "Nigeria\n",
      "China\n",
      "Canada\n"
     ]
    }
   ],
   "source": [
    "countries = [ \"Nigeria\", 'China', \"Canada\"]\n",
    "a, b, c = countries\n",
    "print (a)\n",
    "print (b)\n",
    "print (c)"
   ]
  },
  {
   "cell_type": "markdown",
   "id": "5ae408dc-c9a5-47f3-9694-f68ad06e80b7",
   "metadata": {},
   "source": [
    "## Variables Output"
   ]
  },
  {
   "cell_type": "code",
   "execution_count": 31,
   "id": "30d34a7d-4a46-4b93-92f1-47ceb6dcd68f",
   "metadata": {},
   "outputs": [
    {
     "name": "stdout",
     "output_type": "stream",
     "text": [
      "14\n",
      "I am enjoying Python \n",
      "I  am  enjoying  Python \n",
      "6 Python \n"
     ]
    }
   ],
   "source": [
    "a = 6\n",
    "b = 8\n",
    "c = \"I \"\n",
    "d = \"am \"\n",
    "e = \"enjoying \"\n",
    "f = \"Python \"\n",
    "print (a + b)\n",
    "print (c+d+e+f)\n",
    "print (c, d, e, f)\n",
    "print (a, f)"
   ]
  },
  {
   "cell_type": "markdown",
   "id": "db931643-c3fb-4305-8047-50a29b76f3ef",
   "metadata": {},
   "source": [
    "# FIRST ASSIGNMENT COMPLETED"
   ]
  }
 ],
 "metadata": {
  "kernelspec": {
   "display_name": "Python 3 (ipykernel)",
   "language": "python",
   "name": "python3"
  },
  "language_info": {
   "codemirror_mode": {
    "name": "ipython",
    "version": 3
   },
   "file_extension": ".py",
   "mimetype": "text/x-python",
   "name": "python",
   "nbconvert_exporter": "python",
   "pygments_lexer": "ipython3",
   "version": "3.11.7"
  }
 },
 "nbformat": 4,
 "nbformat_minor": 5
}
