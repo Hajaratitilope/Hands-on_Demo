{
 "cells": [
  {
   "cell_type": "markdown",
   "id": "b991d850-da41-4168-bdc9-43c2b6027fd9",
   "metadata": {},
   "source": [
    "# Continuation on Python Tutorial on W3school"
   ]
  },
  {
   "cell_type": "code",
   "execution_count": null,
   "id": "b3f97e31-657c-4419-8a98-d4586b1c8aab",
   "metadata": {},
   "outputs": [],
   "source": []
  }
 ],
 "metadata": {
  "kernelspec": {
   "display_name": "Python 3 (ipykernel)",
   "language": "python",
   "name": "python3"
  },
  "language_info": {
   "codemirror_mode": {
    "name": "ipython",
    "version": 3
   },
   "file_extension": ".py",
   "mimetype": "text/x-python",
   "name": "python",
   "nbconvert_exporter": "python",
   "pygments_lexer": "ipython3",
   "version": "3.11.7"
  }
 },
 "nbformat": 4,
 "nbformat_minor": 5
}
